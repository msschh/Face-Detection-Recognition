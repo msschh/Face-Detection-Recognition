{
 "cells": [
  {
   "cell_type": "code",
   "execution_count": 1,
   "metadata": {
    "collapsed": false
   },
   "outputs": [],
   "source": [
    "from __future__ import division\n",
    "import os\n",
    "import numpy as np\n",
    "import cv2\n",
    "import random\n",
    "import requests\n",
    "import tensorflow as tf\n",
    "from tensorflow import nn"
   ]
  },
  {
   "cell_type": "code",
   "execution_count": 5,
   "metadata": {
    "collapsed": true
   },
   "outputs": [],
   "source": [
    "FACE_PATH = \"/home/x2009/Desktop/Face-Detection-Recognition/Positive/\"\n",
    "NON_FACE_PATH = \"/home/x2009/Desktop/Face-Detection-Recognition/Negative/\"\n",
    "IN_SIZE = (32,32)   #Input dimensions of image for the network\n",
    "SNAP_COUNT = 5      #Number of random snapshots per non-face image\n",
    "MIN_LEN = 10        #Minimum length for the random snaphsots of non-faces\n",
    "GOOD = [1,0]        #Vector output for faces\n",
    "BAD = [0,1]         #Vector output for non-faces\n",
    "\n",
    "FACE_COUNT = 30000  #Number of images of each class (positive and negative) in the dataset\n",
    "TRAIN_SPLIT = int(0.7*FACE_COUNT)\n",
    "\n",
    "SAVE_PATH = \"/home/x2009/Desktop/Face-Detection-Recognition/model/\""
   ]
  },
  {
   "cell_type": "code",
   "execution_count": 6,
   "metadata": {
    "collapsed": true
   },
   "outputs": [],
   "source": [
    "#Method to generate multiple snapshots from an image\n",
    "def rand_snap(img):\n",
    "    r = []\n",
    "    x = img.shape[0]\n",
    "    y = img.shape[1]\n",
    "    #Generate 5 snapshots of different sizes\n",
    "    for i in range(SNAP_COUNT):\n",
    "        snap_size = max([MIN_LEN,int(random.random()*200)])\n",
    "        fx = int(random.random()*(x-snap_size))\n",
    "        fy = int(random.random()*(y-snap_size))\n",
    "        snap = img[fx:fx+snap_size,fy:fy+snap_size]\n",
    "        r.append(cv2.resize(snap,IN_SIZE))\n",
    "    return r\n",
    "\n",
    "#Load the dataset for face/non face classification\n",
    "def load_find_ds():\n",
    "    ds = []\n",
    "    #Load faces (positive samples)\n",
    "    for n in os.listdir(FACE_PATH):\n",
    "        name = FACE_PATH+n\n",
    "        for img_path in os.listdir(name):\n",
    "            t_img = cv2.resize(cv2.imread(name+\"/\"+img_path,0),IN_SIZE)\n",
    "            ds.append((t_img, GOOD))\n",
    "            ds.append((cv2.flip(t_img,1),GOOD)) #Use the horizontal mirror image\n",
    "    random.shuffle(ds)\n",
    "    ds = ds[:FACE_COUNT] \n",
    "    #Load non-faces (negative samples) from dataset\n",
    "    nface_ds = []\n",
    "    for n in os.listdir(NON_FACE_PATH):\n",
    "        name = NON_FACE_PATH+n\n",
    "        for img_path in os.listdir(name):\n",
    "            t_img = cv2.imread(name+\"/\"+img_path,0)\n",
    "            nface_ds.extend([(r,BAD) for r in rand_snap(t_img)])\n",
    "            nface_ds.append((cv2.resize(t_img, IN_SIZE),BAD))\n",
    "    random.shuffle(nface_ds)\n",
    "    nface_ds = nface_ds[:FACE_COUNT]\n",
    "\n",
    "    #Make the train, val and test sets: Ensure 50% for each set\n",
    "    train = ds[:TRAIN_SPLIT]\n",
    "    train.extend(nface_ds[:TRAIN_SPLIT])\n",
    "    random.shuffle(train)\n",
    "    test = ds[TRAIN_SPLIT:]\n",
    "    test.extend(nface_ds[TRAIN_SPLIT:])\n",
    "    random.shuffle(test)\n",
    "\n",
    "    trainX,trainY = map(np.array,zip(*train))\n",
    "    testX,testY = map(np.array,zip(*test))\n",
    "\n",
    "    return ((trainX,trainY),(testX,testY))"
   ]
  },
  {
   "cell_type": "code",
   "execution_count": 7,
   "metadata": {
    "collapsed": false
   },
   "outputs": [],
   "source": [
    "((trainX,trainY),(testX,testY)) = load_find_ds()"
   ]
  },
  {
   "cell_type": "code",
   "execution_count": 8,
   "metadata": {
    "collapsed": false
   },
   "outputs": [
    {
     "name": "stdout",
     "output_type": "stream",
     "text": [
      "(42000, 32, 32)\n",
      "(18000, 32, 32)\n"
     ]
    }
   ],
   "source": [
    "print(trainX.shape)\n",
    "print(testX.shape)"
   ]
  },
  {
   "cell_type": "code",
   "execution_count": 9,
   "metadata": {
    "collapsed": false,
    "scrolled": true
   },
   "outputs": [
    {
     "data": {
      "text/plain": [
       "array([30000, 30000])"
      ]
     },
     "execution_count": 9,
     "metadata": {},
     "output_type": "execute_result"
    }
   ],
   "source": [
    "sum(trainY)+sum(testY)"
   ]
  },
  {
   "cell_type": "code",
   "execution_count": 10,
   "metadata": {
    "collapsed": true
   },
   "outputs": [],
   "source": [
    "#Make weight and bias variables -- From the TensorFlow tutorial\n",
    "def weight(shape):\n",
    "    intial = tf.truncated_normal(shape, stddev=0.1)\n",
    "    return tf.Variable(intial)\n",
    "\n",
    "def bias(shape):\n",
    "    intial = tf.constant(0.1, shape=shape)\n",
    "    return tf.Variable(intial)\n",
    "\n",
    "#Finds the product of a dimension tuple to find the total legth\n",
    "def dim_prod(dim_arr):\n",
    "    return np.prod([d for d in dim_arr if d != None])\n",
    "\n",
    "#Split to mini batches\n",
    "def batchify(X, Y, batch_size):\n",
    "    batches = [(X[i:i+batch_size],Y[i:i+batch_size]) for i in range(0,X.shape[0],batch_size)]\n",
    "    random.shuffle(batches)\n",
    "    return batches"
   ]
  },
  {
   "cell_type": "code",
   "execution_count": 11,
   "metadata": {
    "collapsed": true
   },
   "outputs": [],
   "source": [
    "#Build the net in the session\n",
    "def build_net(sess):\n",
    "    in_len = 32\n",
    "    in_dep = 1\n",
    "\n",
    "    x_hold = tf.placeholder(tf.float32,shape=[None,in_dep*in_len*in_len])\n",
    "    y_hold = tf.placeholder(tf.float32,shape=[None,2])\n",
    "    keep_prob = tf.placeholder(tf.float32)\n",
    "\n",
    "    xt = tf.reshape(x_hold,[-1,in_len,in_len,in_dep])\n",
    "\n",
    "    #Layer 1 - 5x5 convolution\n",
    "    w1 = weight([5,5,in_dep,4])\n",
    "    b1 = bias([4])\n",
    "    c1 = nn.relu(nn.conv2d(xt,w1,strides=[1,2,2,1],padding='VALID')+b1)\n",
    "    o1 = c1\n",
    "\n",
    "    #Layer 2 - 3x3 convolution\n",
    "    w2 = weight([3,3,4,16])\n",
    "    b2 = bias([16])\n",
    "    c2 = nn.relu(nn.conv2d(o1,w2,strides=[1,2,2,1],padding='VALID')+b2)\n",
    "    o2 = c2\n",
    "\n",
    "    #Layer 3 - 3x3 convolution\n",
    "    w3 = weight([3,3,16,32])\n",
    "    b3 = bias([32])\n",
    "    c3 = nn.relu(nn.conv2d(o2,w3,strides=[1,1,1,1],padding='VALID')+b3)\n",
    "    o3 = c3\n",
    "\n",
    "    dim = 32 * 4*4\n",
    "        \n",
    "    #Fully connected layer - 600 units\n",
    "    of = tf.reshape(o3,[-1,dim])\n",
    "    w4 = weight([dim,600])\n",
    "    b4 = bias([600])\n",
    "    o4 = nn.relu(tf.matmul(of,w4)+b4)\n",
    "\n",
    "    o4 = nn.dropout(o4, keep_prob)\n",
    "\n",
    "    #Output softmax layer - 2 units\n",
    "    w5 = weight([600,2])\n",
    "    b5 = bias([2])\n",
    "    y = nn.softmax(tf.matmul(o4,w5)+b5)\n",
    "\n",
    "    sess.run(tf.global_variables_initializer())\n",
    "\n",
    "    return y,x_hold,y_hold,keep_prob"
   ]
  },
  {
   "cell_type": "code",
   "execution_count": 20,
   "metadata": {
    "collapsed": true
   },
   "outputs": [],
   "source": [
    "#Start a TensorFlow session\n",
    "def start_sess():\n",
    "    config = tf.ConfigProto()\n",
    "    config.gpu_options.allocator_type = 'BFC'\n",
    "    sess = tf.Session(config=config)\n",
    "    return sess\n",
    "\n",
    "#Train the model\n",
    "def ftrain(sess, y, x_hold, y_hold, keep_prob, X, Y, testX, testY, lrate=0.5, epsilon=1e-8, n_epoch=100, batch_size=10, print_epoch=100, save_path=None):\n",
    "    cross_entropy = tf.reduce_mean(-tf.reduce_sum(y_hold*tf.log(y+1e-10), reduction_indices=[1]))\n",
    "    \n",
    "    correct_prediction = tf.equal(tf.argmax(y,1),tf.argmax(y_hold,1))\n",
    "    accuracy = tf.reduce_mean(tf.cast(correct_prediction, tf.float32))\n",
    "    \n",
    "    train_step = tf.train.AdamOptimizer(learning_rate=lrate,epsilon=epsilon).minimize(cross_entropy)\n",
    "    \n",
    "    #Flatten the input images for the placeholder\n",
    "    flat_len = dim_prod(x_hold._shape_as_list())\n",
    "    X = X.reshape((X.shape[0],flat_len))\n",
    "\n",
    "    print('Starting training session...')\n",
    "\n",
    "    sess.run(tf.global_variables_initializer())\n",
    "    batch_num = 0\n",
    "    batches = batchify(X,Y,batch_size)\n",
    "    print('Number of batches:',len(batches))\n",
    "    for i in range(n_epoch):\n",
    "        avg_acc = 0\n",
    "        random.shuffle(batches)\n",
    "        for batchX,batchY in batches:\n",
    "            train_accuracy = accuracy.eval(session=sess, feed_dict={x_hold:batchX, y_hold:batchY, keep_prob:1})\n",
    "            avg_acc = avg_acc + train_accuracy\n",
    "            train_step.run(session=sess,feed_dict={x_hold:batchX, y_hold:batchY, keep_prob:0.75})\n",
    "            #print('Epoch '+': '+str(train_accuracy))\n",
    "        print('Epoch '+str(i)+': '+str(avg_acc/len(batches)))\n",
    "\n",
    "    if (not testX is None) & (not testY is None):\n",
    "        testX = testX.reshape((testX.shape[0],flat_len))\n",
    "        test_accuracy = accuracy.eval(session=sess,feed_dict={x_hold:testX, y_hold:testY, keep_prob:1})\n",
    "        #print('Acc test: ',test_accuracy)\n",
    "\n",
    "    if not save_path is None:\n",
    "        saver = tf.train.Saver()\n",
    "        saver.save(sess, \"/home/x2009/Desktop/Face-Detection-Recognition/my_test_model/\", global_step=1000)\n",
    "        #saver = tf.train.Saver(tf.global_variables())\n",
    "        #saver.save(sess,save_path)\n",
    "        #merged = tf.summary.merge_all()\n",
    "        #writer = tf.train.SummaryWriter(save_path+'_graph',sess.graph)\n",
    "        #writer.flush()\n",
    "        #writer.close()\n",
    "        print('Model saved')\n",
    "        \n",
    "    return test_accuracy"
   ]
  },
  {
   "cell_type": "code",
   "execution_count": 21,
   "metadata": {
    "collapsed": true
   },
   "outputs": [],
   "source": [
    "#Method to run the training\n",
    "def train_net():\n",
    "    train,test = load_find_ds()\n",
    "    sess = start_sess()\n",
    "    y,x_hold,y_hold,keep_prob = build_net(sess)\n",
    "    acc = ftrain(sess,\n",
    "                y,\n",
    "                x_hold,\n",
    "                y_hold,\n",
    "                keep_prob,\n",
    "                train[0],train[1],\n",
    "                test[0],test[1],\n",
    "                lrate=1e-4,\n",
    "                epsilon=1e-16,\n",
    "                n_epoch=20,\n",
    "                batch_size=100,\n",
    "                print_epoch=1,\n",
    "                save_path=True)\n",
    "    print(\"Accuracy:\",acc)\n",
    "    sess.close()"
   ]
  },
  {
   "cell_type": "code",
   "execution_count": 22,
   "metadata": {
    "collapsed": false,
    "scrolled": false
   },
   "outputs": [
    {
     "name": "stdout",
     "output_type": "stream",
     "text": [
      "Starting training session...\n",
      "Number of batches: 420\n",
      "Epoch 0: 0.8618571438959667\n",
      "Epoch 1: 0.9305476212785357\n",
      "Epoch 2: 0.9430714299281439\n",
      "Epoch 3: 0.9531904782567705\n",
      "Epoch 4: 0.9604523848919642\n",
      "Epoch 5: 0.9661666731039683\n",
      "Epoch 6: 0.9709285804203578\n",
      "Epoch 7: 0.9750714385793322\n",
      "Epoch 8: 0.9780000106209801\n",
      "Epoch 9: 0.9817857241346722\n",
      "Epoch 10: 0.9838333436420985\n",
      "Epoch 11: 0.9858095336528051\n",
      "Epoch 12: 0.9880952473197665\n",
      "Epoch 13: 0.9898571504013879\n",
      "Epoch 14: 0.991380959607306\n",
      "Epoch 15: 0.992357149720192\n",
      "Epoch 16: 0.9939047677176339\n",
      "Epoch 17: 0.9948571476198378\n",
      "Epoch 18: 0.9949047664801279\n",
      "Epoch 19: 0.9960952418191092\n",
      "Model saved\n",
      "Accuracy: 0.9863333\n"
     ]
    }
   ],
   "source": [
    "train_net()"
   ]
  },
  {
   "cell_type": "code",
   "execution_count": null,
   "metadata": {
    "collapsed": true
   },
   "outputs": [],
   "source": []
  }
 ],
 "metadata": {
  "kernelspec": {
   "display_name": "Python 3",
   "language": "python",
   "name": "python3"
  },
  "language_info": {
   "codemirror_mode": {
    "name": "ipython",
    "version": 3
   },
   "file_extension": ".py",
   "mimetype": "text/x-python",
   "name": "python",
   "nbconvert_exporter": "python",
   "pygments_lexer": "ipython3",
   "version": "3.5.3"
  }
 },
 "nbformat": 4,
 "nbformat_minor": 2
}
