{
 "cells": [
  {
   "cell_type": "code",
   "execution_count": 4,
   "metadata": {},
   "outputs": [],
   "source": [
    "import math\n",
    "from sklearn import neighbors, svm\n",
    "import os\n",
    "import os.path\n",
    "import pickle\n",
    "from PIL import Image, ImageDraw\n",
    "import face_recognition\n",
    "from face_recognition.face_recognition_cli import image_files_in_folder"
   ]
  },
  {
   "cell_type": "code",
   "execution_count": 5,
   "metadata": {},
   "outputs": [],
   "source": [
    "train_dir = \"train\"\n",
    "test_dir = \"test\"\n",
    "\n",
    "trainX = []\n",
    "trainY = []"
   ]
  },
  {
   "cell_type": "code",
   "execution_count": 6,
   "metadata": {},
   "outputs": [],
   "source": [
    "for class_dir in os.listdir(train_dir):\n",
    "\n",
    "    for img_path in image_files_in_folder(os.path.join(train_dir, class_dir)):\n",
    "        \n",
    "        image = face_recognition.load_image_file(img_path)\n",
    "        face_bounding_boxes = face_recognition.face_locations(image)\n",
    "\n",
    "        if len(face_bounding_boxes) == 1:\n",
    "            trainX.append(face_recognition.face_encodings(image, known_face_locations=face_bounding_boxes)[0])\n",
    "            trainY.append(class_dir)"
   ]
  },
  {
   "cell_type": "code",
   "execution_count": 7,
   "metadata": {},
   "outputs": [
    {
     "name": "stdout",
     "output_type": "stream",
     "text": [
      "1588\n",
      "1588\n"
     ]
    }
   ],
   "source": [
    "print(len(trainX))\n",
    "print(len(trainY))"
   ]
  },
  {
   "cell_type": "code",
   "execution_count": null,
   "metadata": {},
   "outputs": [],
   "source": [
    "def trainKNN(model_save_path=None, n_neighbors=None, knn_algo='ball_tree'):\n",
    "    \n",
    "    if n_neighbors is None:\n",
    "        n_neighbors = int(round(math.sqrt(len(trainX))))\n",
    "\n",
    "    knn_clf = neighbors.KNeighborsClassifier(n_neighbors=n_neighbors, algorithm=knn_algo, weights='distance')\n",
    "    knn_clf.fit(trainX, trainY)\n",
    "\n",
    "    if model_save_path is not None:\n",
    "        with open(model_save_path, 'wb') as f:\n",
    "            pickle.dump(knn_clf, f)\n",
    "\n",
    "    return knn_clf"
   ]
  },
  {
   "cell_type": "code",
   "execution_count": null,
   "metadata": {},
   "outputs": [],
   "source": [
    "print(\"Training KNN classifier...\")\n",
    "knn_clf = trainKNN(model_save_path=\"trained_knn_model.clf\", n_neighbors=2)\n",
    "print(\"Training complete!\")"
   ]
  },
  {
   "cell_type": "code",
   "execution_count": null,
   "metadata": {},
   "outputs": [],
   "source": [
    "def predictKNN(X_img_path, knn_clf=None, distance_threshold=0.6):\n",
    "    \n",
    "    X_img = face_recognition.load_image_file(X_img_path)\n",
    "    X_face_locations = face_recognition.face_locations(X_img)\n",
    "\n",
    "    if len(X_face_locations) != 1:\n",
    "        return []\n",
    "\n",
    "    faces_encodings = face_recognition.face_encodings(X_img, known_face_locations=X_face_locations)\n",
    "\n",
    "    closest_distances = knn_clf.kneighbors(faces_encodings, n_neighbors=1)\n",
    "    are_matches = [closest_distances[0][0][0] <= distance_threshold]\n",
    "    \n",
    "    if are_matches:\n",
    "        return (knn_clf.predict(faces_encodings)[0], X_face_locations[0])\n",
    "    else:\n",
    "        return (\"unkown\", X_face_locations[0])"
   ]
  },
  {
   "cell_type": "code",
   "execution_count": null,
   "metadata": {},
   "outputs": [],
   "source": [
    "total = 0\n",
    "nrCorecte = 0\n",
    "for class_dir in os.listdir(\"test\"):\n",
    "    for image_file in image_files_in_folder(os.path.join(\"test\", class_dir)):\n",
    "\n",
    "        full_file_path = image_file\n",
    "\n",
    "        name, (top, right, bottom, left) = predictKNN(full_file_path, knn_clf=knn_clf)\n",
    "        \n",
    "        #print(\"- Found {} at ({}, {})\".format(name, left, top))\n",
    "        total = total + 1\n",
    "        if name == class_dir:\n",
    "            nrCorecte = nrCorecte + 1\n",
    "        else:\n",
    "            print(\"Corect: \" + class_dir + \"; Prezis: \" + name)\n",
    "\n",
    "print(\"Corecte KNN: \" + str(nrCorecte))\n",
    "print(\"Totale KNN: \" + str(total))\n",
    "print(\"Acc KNN: \" + str(nrCorecte/total))"
   ]
  },
  {
   "cell_type": "code",
   "execution_count": 10,
   "metadata": {},
   "outputs": [],
   "source": [
    "def trainSVM(model_save_path=None):\n",
    "\n",
    "    svm_clf = svm.SVC()\n",
    "    svm_clf.fit(trainX, trainY)\n",
    "    \n",
    "    if model_save_path is not None:\n",
    "        with open(model_save_path, 'wb') as f:\n",
    "            pickle.dump(svm_clf, f)\n",
    "\n",
    "    return svm_clf"
   ]
  },
  {
   "cell_type": "code",
   "execution_count": 11,
   "metadata": {},
   "outputs": [
    {
     "name": "stdout",
     "output_type": "stream",
     "text": [
      "Training SVM classifier...\n",
      "Training complete!\n"
     ]
    }
   ],
   "source": [
    "print(\"Training SVM classifier...\")\n",
    "svm_clf = trainSVM(model_save_path=\"trained_svm_model.clf\")\n",
    "print(\"Training complete!\")"
   ]
  },
  {
   "cell_type": "code",
   "execution_count": 12,
   "metadata": {},
   "outputs": [],
   "source": [
    "def predictSVM(X_img_path, svm_clf):\n",
    "    \n",
    "    X_img = face_recognition.load_image_file(X_img_path)\n",
    "    X_face_locations = face_recognition.face_locations(X_img)\n",
    "\n",
    "    if len(X_face_locations) != 1:\n",
    "        return []\n",
    "\n",
    "    faces_encodings = face_recognition.face_encodings(X_img, known_face_locations=X_face_locations)\n",
    "\n",
    "    return (svm_clf.predict(faces_encodings)[0], X_face_locations[0])"
   ]
  },
  {
   "cell_type": "code",
   "execution_count": 13,
   "metadata": {},
   "outputs": [
    {
     "ename": "NameError",
     "evalue": "name 'knn_clf' is not defined",
     "output_type": "error",
     "traceback": [
      "\u001b[0;31m---------------------------------------------------------------------------\u001b[0m",
      "\u001b[0;31mNameError\u001b[0m                                 Traceback (most recent call last)",
      "\u001b[0;32m<ipython-input-13-f82031efa587>\u001b[0m in \u001b[0;36m<module>\u001b[0;34m()\u001b[0m\n\u001b[1;32m      6\u001b[0m         \u001b[0mfull_file_path\u001b[0m \u001b[0;34m=\u001b[0m \u001b[0mimage_file\u001b[0m\u001b[0;34m\u001b[0m\u001b[0m\n\u001b[1;32m      7\u001b[0m \u001b[0;34m\u001b[0m\u001b[0m\n\u001b[0;32m----> 8\u001b[0;31m         \u001b[0mname\u001b[0m\u001b[0;34m,\u001b[0m \u001b[0;34m(\u001b[0m\u001b[0mtop\u001b[0m\u001b[0;34m,\u001b[0m \u001b[0mright\u001b[0m\u001b[0;34m,\u001b[0m \u001b[0mbottom\u001b[0m\u001b[0;34m,\u001b[0m \u001b[0mleft\u001b[0m\u001b[0;34m)\u001b[0m \u001b[0;34m=\u001b[0m \u001b[0mpredictSVM\u001b[0m\u001b[0;34m(\u001b[0m\u001b[0mfull_file_path\u001b[0m\u001b[0;34m,\u001b[0m \u001b[0mknn_clf\u001b[0m\u001b[0;34m=\u001b[0m\u001b[0mknn_clf\u001b[0m\u001b[0;34m)\u001b[0m\u001b[0;34m\u001b[0m\u001b[0m\n\u001b[0m\u001b[1;32m      9\u001b[0m \u001b[0;34m\u001b[0m\u001b[0m\n\u001b[1;32m     10\u001b[0m         \u001b[0;31m#print(\"- Found {} at ({}, {})\".format(name, left, top))\u001b[0m\u001b[0;34m\u001b[0m\u001b[0;34m\u001b[0m\u001b[0m\n",
      "\u001b[0;31mNameError\u001b[0m: name 'knn_clf' is not defined"
     ]
    }
   ],
   "source": [
    "total = 0\n",
    "nrCorecte = 0\n",
    "for class_dir in os.listdir(\"test\"):\n",
    "    for image_file in image_files_in_folder(os.path.join(\"test\", class_dir)):\n",
    "\n",
    "        full_file_path = image_file\n",
    "\n",
    "        name, (top, right, bottom, left) = predictSVM(full_file_path, svm_clf=svm_clf)\n",
    "        \n",
    "        #print(\"- Found {} at ({}, {})\".format(name, left, top))\n",
    "        total = total + 1\n",
    "        if name == class_dir:\n",
    "            nrCorecte = nrCorecte + 1\n",
    "        else:\n",
    "            print(\"Corect: \" + class_dir + \"; Prezis: \" + name)\n",
    "\n",
    "print(\"Corecte SVM: \" + str(nrCorecte))\n",
    "print(\"Totale SVM: \" + str(total))\n",
    "print(\"Acc SVM: \" + str(nrCorecte/total))"
   ]
  },
  {
   "cell_type": "code",
   "execution_count": null,
   "metadata": {},
   "outputs": [],
   "source": []
  }
 ],
 "metadata": {
  "kernelspec": {
   "display_name": "Python 3",
   "language": "python",
   "name": "python3"
  },
  "language_info": {
   "codemirror_mode": {
    "name": "ipython",
    "version": 3
   },
   "file_extension": ".py",
   "mimetype": "text/x-python",
   "name": "python",
   "nbconvert_exporter": "python",
   "pygments_lexer": "ipython3",
   "version": "3.6.4"
  }
 },
 "nbformat": 4,
 "nbformat_minor": 2
}
