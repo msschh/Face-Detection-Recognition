{
 "cells": [
  {
   "cell_type": "code",
   "execution_count": 1,
   "metadata": {},
   "outputs": [],
   "source": [
    "import math\n",
    "from sklearn import neighbors, svm\n",
    "import os\n",
    "import os.path\n",
    "import pickle\n",
    "from PIL import Image, ImageDraw\n",
    "import face_recognition\n",
    "from face_recognition.face_recognition_cli import image_files_in_folder"
   ]
  },
  {
   "cell_type": "code",
   "execution_count": 2,
   "metadata": {},
   "outputs": [],
   "source": [
    "train_dir = \"train\"\n",
    "test_dir = \"test\"\n",
    "\n",
    "trainX = []\n",
    "trainY = []"
   ]
  },
  {
   "cell_type": "code",
   "execution_count": 3,
   "metadata": {},
   "outputs": [],
   "source": [
    "for class_dir in os.listdir(train_dir):\n",
    "\n",
    "    for img_path in image_files_in_folder(os.path.join(train_dir, class_dir)):\n",
    "        \n",
    "        image = face_recognition.load_image_file(img_path)\n",
    "        face_bounding_boxes = face_recognition.face_locations(image)\n",
    "\n",
    "        if len(face_bounding_boxes) == 1:\n",
    "            trainX.append(face_recognition.face_encodings(image, known_face_locations=face_bounding_boxes)[0])\n",
    "            trainY.append(class_dir)"
   ]
  },
  {
   "cell_type": "code",
   "execution_count": 4,
   "metadata": {},
   "outputs": [
    {
     "name": "stdout",
     "output_type": "stream",
     "text": [
      "1588\n",
      "1588\n"
     ]
    }
   ],
   "source": [
    "print(len(trainX))\n",
    "print(len(trainY))"
   ]
  },
  {
   "cell_type": "code",
   "execution_count": 5,
   "metadata": {},
   "outputs": [],
   "source": [
    "def trainKNN(model_save_path=None, n_neighbors=None, knn_algo='ball_tree'):\n",
    "    \n",
    "    if n_neighbors is None:\n",
    "        n_neighbors = int(round(math.sqrt(len(trainX))))\n",
    "\n",
    "    knn_clf = neighbors.KNeighborsClassifier(n_neighbors=n_neighbors, algorithm=knn_algo, weights='distance')\n",
    "    knn_clf.fit(trainX, trainY)\n",
    "\n",
    "    if model_save_path is not None:\n",
    "        with open(model_save_path, 'wb') as f:\n",
    "            pickle.dump(knn_clf, f)\n",
    "\n",
    "    return knn_clf"
   ]
  },
  {
   "cell_type": "code",
   "execution_count": 6,
   "metadata": {},
   "outputs": [
    {
     "name": "stdout",
     "output_type": "stream",
     "text": [
      "Training KNN classifier...\n",
      "Training complete!\n"
     ]
    }
   ],
   "source": [
    "print(\"Training KNN classifier...\")\n",
    "knn_clf = trainKNN(model_save_path=\"trained_knn_model.clf\", n_neighbors=2)\n",
    "print(\"Training complete!\")"
   ]
  },
  {
   "cell_type": "code",
   "execution_count": 8,
   "metadata": {},
   "outputs": [],
   "source": [
    "def predictKNN(X_img_path, knn_clf=None):\n",
    "    \n",
    "    X_img = face_recognition.load_image_file(X_img_path)\n",
    "    X_face_locations = face_recognition.face_locations(X_img)\n",
    "\n",
    "    if len(X_face_locations) != 1:\n",
    "        return \"unkown\"\n",
    "\n",
    "    faces_encodings = face_recognition.face_encodings(X_img, known_face_locations=X_face_locations)\n",
    "    \n",
    "    return knn_clf.predict(faces_encodings)[0]"
   ]
  },
  {
   "cell_type": "code",
   "execution_count": 9,
   "metadata": {},
   "outputs": [
    {
     "name": "stdout",
     "output_type": "stream",
     "text": [
      "Corect: Katherine Langford; Prezis: Alexandra Daddario\n",
      "Corect: Britt Robertson; Prezis: Karen Gillan\n",
      "Corecte KNN: 398\n",
      "Totale KNN: 400\n",
      "Acc KNN: 0.995\n"
     ]
    }
   ],
   "source": [
    "total = 0\n",
    "nrCorecte = 0\n",
    "for class_dir in os.listdir(\"test\"):\n",
    "    for image_file in image_files_in_folder(os.path.join(\"test\", class_dir)):\n",
    "\n",
    "        full_file_path = image_file\n",
    "\n",
    "        name = predictKNN(full_file_path, knn_clf=knn_clf)\n",
    "        \n",
    "        total = total + 1\n",
    "        if name == class_dir:\n",
    "            nrCorecte = nrCorecte + 1\n",
    "        else:\n",
    "            print(\"Corect: \" + class_dir + \"; Prezis: \" + name)\n",
    "\n",
    "print(\"Corecte KNN: \" + str(nrCorecte))\n",
    "print(\"Totale KNN: \" + str(total))\n",
    "print(\"Acc KNN: \" + str(nrCorecte/total))"
   ]
  },
  {
   "cell_type": "code",
   "execution_count": 10,
   "metadata": {},
   "outputs": [],
   "source": [
    "def trainSVM(model_save_path=None):\n",
    "\n",
    "    svm_clf = svm.SVC(kernel='linear', C = 1.0)\n",
    "    svm_clf.fit(trainX, trainY)\n",
    "    \n",
    "    if model_save_path is not None:\n",
    "        with open(model_save_path, 'wb') as f:\n",
    "            pickle.dump(svm_clf, f)\n",
    "\n",
    "    return svm_clf"
   ]
  },
  {
   "cell_type": "code",
   "execution_count": 11,
   "metadata": {},
   "outputs": [
    {
     "name": "stdout",
     "output_type": "stream",
     "text": [
      "Training SVM classifier...\n",
      "Training complete!\n"
     ]
    }
   ],
   "source": [
    "print(\"Training SVM classifier...\")\n",
    "svm_clf = trainSVM(model_save_path=\"trained_svm_model.clf\")\n",
    "print(\"Training complete!\")"
   ]
  },
  {
   "cell_type": "code",
   "execution_count": 12,
   "metadata": {},
   "outputs": [],
   "source": [
    "def predictSVM(X_img_path):\n",
    "    \n",
    "    X_img = face_recognition.load_image_file(X_img_path)\n",
    "    X_face_locations = face_recognition.face_locations(X_img)\n",
    "\n",
    "    if len(X_face_locations) != 1:\n",
    "        return []\n",
    "\n",
    "    faces_encodings = face_recognition.face_encodings(X_img, known_face_locations=X_face_locations)\n",
    "\n",
    "    return svm_clf.predict(faces_encodings)[0]"
   ]
  },
  {
   "cell_type": "code",
   "execution_count": 13,
   "metadata": {},
   "outputs": [
    {
     "name": "stdout",
     "output_type": "stream",
     "text": [
      "Corect: Katherine Langford; Prezis: Alexandra Daddario\n",
      "Corecte SVM: 399\n",
      "Totale SVM: 400\n",
      "Acc SVM: 0.9975\n"
     ]
    }
   ],
   "source": [
    "total = 0\n",
    "nrCorecte = 0\n",
    "for class_dir in os.listdir(\"test\"):\n",
    "    for image_file in image_files_in_folder(os.path.join(\"test\", class_dir)):\n",
    "\n",
    "        full_file_path = image_file\n",
    "\n",
    "        name = predictSVM(full_file_path)\n",
    "        \n",
    "        total = total + 1\n",
    "        if name == class_dir:\n",
    "            nrCorecte = nrCorecte + 1\n",
    "        else:\n",
    "            print(\"Corect: \" + class_dir + \"; Prezis: \" + name)\n",
    "\n",
    "print(\"Corecte SVM: \" + str(nrCorecte))\n",
    "print(\"Totale SVM: \" + str(total))\n",
    "print(\"Acc SVM: \" + str(nrCorecte/total))"
   ]
  },
  {
   "cell_type": "code",
   "execution_count": null,
   "metadata": {
    "collapsed": true
   },
   "outputs": [],
   "source": []
  }
 ],
 "metadata": {
  "kernelspec": {
   "display_name": "Python 3",
   "language": "python",
   "name": "python3"
  },
  "language_info": {
   "codemirror_mode": {
    "name": "ipython",
    "version": 3
   },
   "file_extension": ".py",
   "mimetype": "text/x-python",
   "name": "python",
   "nbconvert_exporter": "python",
   "pygments_lexer": "ipython3",
   "version": "3.6.4"
  }
 },
 "nbformat": 4,
 "nbformat_minor": 2
}
