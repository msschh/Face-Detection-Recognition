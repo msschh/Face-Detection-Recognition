{
  "nbformat": 4,
  "nbformat_minor": 0,
  "metadata": {
    "colab": {
      "name": "MNIST_ShallowFC.ipynb",
      "version": "0.3.2",
      "views": {},
      "default_view": {},
      "provenance": [],
      "collapsed_sections": []
    },
    "kernelspec": {
      "display_name": "Python 3",
      "language": "python",
      "name": "python3"
    }
  },
  "cells": [
    {
      "metadata": {
        "id": "Sv6jgE0jGLHw",
        "colab_type": "text"
      },
      "cell_type": "markdown",
      "source": [
        "# MNIST 1 Layer FC + Softmax"
      ]
    },
    {
      "metadata": {
        "id": "JW6Pp1s5GLIH",
        "colab_type": "text"
      },
      "cell_type": "markdown",
      "source": [
        "# Setup\n",
        "\n",
        "## Imports"
      ]
    },
    {
      "metadata": {
        "id": "n4dcP1mkGLIU",
        "colab_type": "code",
        "colab": {
          "autoexec": {
            "startup": false,
            "wait_interval": 0
          }
        }
      },
      "cell_type": "code",
      "source": [
        "import tensorflow as tf\n",
        "from tensorflow.examples.tutorials.mnist import input_data as mnist_data\n",
        "\n",
        "import matplotlib.pyplot as plt\n",
        "%matplotlib inline\n",
        "import seaborn as sns\n",
        "sns.set()"
      ],
      "execution_count": 0,
      "outputs": []
    },
    {
      "metadata": {
        "id": "IAbH2tpuGLI3",
        "colab_type": "text"
      },
      "cell_type": "markdown",
      "source": [
        "## Load Data"
      ]
    },
    {
      "metadata": {
        "id": "qSgROxbvGLI9",
        "colab_type": "code",
        "colab": {
          "autoexec": {
            "startup": false,
            "wait_interval": 0
          },
          "output_extras": [
            {
              "item_id": 2
            }
          ],
          "base_uri": "https://localhost:8080/",
          "height": 85
        },
        "outputId": "7b1406c2-ae7c-45b3-9369-9702f1458165",
        "executionInfo": {
          "status": "ok",
          "timestamp": 1520370585832,
          "user_tz": -120,
          "elapsed": 2312,
          "user": {
            "displayName": "Andrei Janca",
            "photoUrl": "//lh4.googleusercontent.com/-WcoatQvgbR4/AAAAAAAAAAI/AAAAAAAAAM0/x-SFTi_dtXM/s50-c-k-no/photo.jpg",
            "userId": "110870304408376504137"
          }
        }
      },
      "cell_type": "code",
      "source": [
        "# Download images and labels into mnist.test (10K images+labels) and mnist.train (60K images+labels)\n",
        "mnist = mnist_data.read_data_sets(\"data\", one_hot=True, reshape=False, validation_size=0)"
      ],
      "execution_count": 2,
      "outputs": [
        {
          "output_type": "stream",
          "text": [
            "Extracting data/train-images-idx3-ubyte.gz\n",
            "Extracting data/train-labels-idx1-ubyte.gz\n",
            "Extracting data/t10k-images-idx3-ubyte.gz\n",
            "Extracting data/t10k-labels-idx1-ubyte.gz\n"
          ],
          "name": "stdout"
        }
      ]
    },
    {
      "metadata": {
        "id": "xgil5mvsGLJo",
        "colab_type": "text"
      },
      "cell_type": "markdown",
      "source": [
        "## Setup Model"
      ]
    },
    {
      "metadata": {
        "id": "3Y8MnYoBGLJ0",
        "colab_type": "text"
      },
      "cell_type": "markdown",
      "source": [
        "Modelul corespunde unui task de clasificare + soft-max peste datasetul MNIST\n",
        "\n",
        "![](../images/model.png)\n",
        "\n",
        "Se ia fiecare imagine `28 x 28`, se vectorizeaza `784` si se ataseaza fully-connected unui layer cu 10 noduri softmax (clasificatorul) "
      ]
    },
    {
      "metadata": {
        "id": "XW7f1Lk8GLJ7",
        "colab_type": "text"
      },
      "cell_type": "markdown",
      "source": [
        "Definim intai toate valorile dimensiunilor, pentru claritate\n",
        "\n",
        "\n",
        "\n"
      ]
    },
    {
      "metadata": {
        "id": "t1OGvNcTGLKK",
        "colab_type": "code",
        "colab": {
          "autoexec": {
            "startup": false,
            "wait_interval": 0
          }
        }
      },
      "cell_type": "code",
      "source": [
        "batchSize = None;       # None pentru ca nu stim inca dimensiunea unui Batch\n",
        "imgHeight = 28\n",
        "imgWidth = 28\n",
        "numOfColors = 1         # pentru imagini color, numOfColors = 3 RGB\n",
        "flatSize = imgHeight*imgWidth*numOfColors   # 728\n",
        "numberOfClasses = 10    # 10 clase: 0-9"
      ],
      "execution_count": 0,
      "outputs": []
    },
    {
      "metadata": {
        "id": "J9QUzCMaGLKY",
        "colab_type": "text"
      },
      "cell_type": "markdown",
      "source": [
        "Acum putem sa ne definim variabilele. Imagini de input :`X_img`:"
      ]
    },
    {
      "metadata": {
        "id": "nCEqjjqJGLKf",
        "colab_type": "code",
        "colab": {
          "autoexec": {
            "startup": false,
            "wait_interval": 0
          }
        }
      },
      "cell_type": "code",
      "source": [
        "# Input Data\n",
        "X_img = tf.placeholder(tf.float32, [batchSize, imgHeight, imgWidth, numOfColors], name=\"X_img\")"
      ],
      "execution_count": 0,
      "outputs": []
    },
    {
      "metadata": {
        "id": "WSUp5dylGLKy",
        "colab_type": "text"
      },
      "cell_type": "markdown",
      "source": [
        "X_img este un tensor (pe care ni-l putem imagina ca un set de imagini stacked vertical intr-un tabel de lungime `batchSize`). X[0,:,:,:] este prima imagine"
      ]
    },
    {
      "metadata": {
        "id": "HA9k5gGGGLK3",
        "colab_type": "text"
      },
      "cell_type": "markdown",
      "source": [
        "X_img trebuie vectorizat/reshaped, pentru ultimul layer de FC, in X_vec. \n",
        "\n",
        "**Nota**: Daca o componenta a dimensiunilor este valoarea speciala \"-1\" , valoarea acelei componente o sa fie inlocuita in asa fel incat dimensiunea totala sa ramana constanta. Maxim o componenta poate sa fie \"-1\"."
      ]
    },
    {
      "metadata": {
        "id": "r4ZzVfF7GLK8",
        "colab_type": "code",
        "colab": {
          "autoexec": {
            "startup": false,
            "wait_interval": 0
          }
        }
      },
      "cell_type": "code",
      "source": [
        "X_vec = tf.reshape(X_img, [-1, 784], name=\"X_vec\")"
      ],
      "execution_count": 0,
      "outputs": []
    },
    {
      "metadata": {
        "id": "N9IaETyMGLLT",
        "colab_type": "text"
      },
      "cell_type": "markdown",
      "source": [
        "`X_vec` devine $28*28*1 = 784$\n",
        "\n",
        "![](../images/x_vec.png)\n"
      ]
    },
    {
      "metadata": {
        "id": "kT6mPRKtGLLW",
        "colab_type": "text"
      },
      "cell_type": "markdown",
      "source": [
        "Definim weights si biases:"
      ]
    },
    {
      "metadata": {
        "id": "zJHnMkJAGLLp",
        "colab_type": "code",
        "colab": {
          "autoexec": {
            "startup": false,
            "wait_interval": 0
          }
        }
      },
      "cell_type": "code",
      "source": [
        "# Weights\n",
        "W = tf.Variable(tf.zeros([flatSize, numberOfClasses]), name=\"Weights\")\n",
        "\n",
        "# Biases\n",
        "b = tf.Variable(tf.zeros([10]), name=\"Biases\")"
      ],
      "execution_count": 0,
      "outputs": []
    },
    {
      "metadata": {
        "id": "iv-x_4dcGLMD",
        "colab_type": "text"
      },
      "cell_type": "markdown",
      "source": [
        "`X_vec` este $100 \\times 784$,  `W` este $784 \\times 10$ =>>>> produce $100 \\times 10$, - i.e - cat de mult apartin cele 100 de imagini celor 10 clase? \n",
        "\n",
        "**Note**: Antrenam aceste W si b pentru a obtine un rezultat precis la aceasta intrebare."
      ]
    },
    {
      "metadata": {
        "id": "PeoKDNQ2GLMF",
        "colab_type": "text"
      },
      "cell_type": "markdown",
      "source": [
        "Initializarea variabilelor : (deprecated)"
      ]
    },
    {
      "metadata": {
        "id": "cmYRdQWbGLMH",
        "colab_type": "code",
        "colab": {
          "autoexec": {
            "startup": false,
            "wait_interval": 0
          }
        }
      },
      "cell_type": "code",
      "source": [
        "init = tf.global_variables_initializer()"
      ],
      "execution_count": 0,
      "outputs": []
    },
    {
      "metadata": {
        "id": "oSopWkWkGLMU",
        "colab_type": "text"
      },
      "cell_type": "markdown",
      "source": [
        "Activarea pentru layerul FC:\n",
        "\n",
        "![](../images/output.png)"
      ]
    },
    {
      "metadata": {
        "id": "7SOMN75lGLMW",
        "colab_type": "code",
        "colab": {
          "autoexec": {
            "startup": false,
            "wait_interval": 0
          }
        }
      },
      "cell_type": "code",
      "source": [
        "Y_Pred_Prob = tf.nn.softmax(tf.matmul(X_vec, W) + b, name=\"softmax\")"
      ],
      "execution_count": 0,
      "outputs": []
    },
    {
      "metadata": {
        "id": "cpmg8Q51GLMi",
        "colab_type": "text"
      },
      "cell_type": "markdown",
      "source": [
        "Definim un placeholder pentru probabilitatile de apartentanta la clasa. Folosim \"None\" ca prima dimensiune pentru ca o sa fie automat prelucrate batchSize imagini, indiferent de cat de mare este batchSize."
      ]
    },
    {
      "metadata": {
        "id": "4eHy5RZuGLMl",
        "colab_type": "code",
        "colab": {
          "autoexec": {
            "startup": false,
            "wait_interval": 0
          }
        }
      },
      "cell_type": "code",
      "source": [
        "Y_True_Prob = tf.placeholder(tf.float32, [None, 10], name=\"Y_True\")"
      ],
      "execution_count": 0,
      "outputs": []
    },
    {
      "metadata": {
        "id": "odofB5IrGLMu",
        "colab_type": "text"
      },
      "cell_type": "markdown",
      "source": [
        "Pentru masurarea distantei intre GT si Predictii, calculam loss'ul cross-entropy : \n",
        "\n",
        "![](../images/cross_entropy_loss.png)"
      ]
    },
    {
      "metadata": {
        "id": "OgNj1maYGLMv",
        "colab_type": "code",
        "colab": {
          "autoexec": {
            "startup": false,
            "wait_interval": 0
          }
        }
      },
      "cell_type": "code",
      "source": [
        "cross_entropy_loss = -tf.reduce_sum(Y_True_Prob * tf.log(Y_Pred_Prob), name=\"Loss_Cross_Entropy\")"
      ],
      "execution_count": 0,
      "outputs": []
    },
    {
      "metadata": {
        "id": "7irjk5BdGLM0",
        "colab_type": "text"
      },
      "cell_type": "markdown",
      "source": [
        "Calculam predictiile din fiecare vector de 10 elemente, considerand maximul ca fiind \"cea mai puternica\" incredere in acea clasa"
      ]
    },
    {
      "metadata": {
        "id": "u-k8_k-aGLM1",
        "colab_type": "code",
        "colab": {
          "autoexec": {
            "startup": false,
            "wait_interval": 0
          }
        }
      },
      "cell_type": "code",
      "source": [
        "Y_Pred_Class = tf.argmax(Y_Pred_Prob,1, name=\"Y_Pred_Class\")\n",
        "Y_True_Class = tf.argmax(Y_True_Prob,1, name=\"Y_True_Class\")   # there is only 1 non-zero index"
      ],
      "execution_count": 0,
      "outputs": []
    },
    {
      "metadata": {
        "id": "e-Ba4B3MGLNB",
        "colab_type": "text"
      },
      "cell_type": "markdown",
      "source": [
        "Astfel, putem sa calculam metrici de acuratete : "
      ]
    },
    {
      "metadata": {
        "id": "F1e6axZbGLND",
        "colab_type": "code",
        "colab": {
          "autoexec": {
            "startup": false,
            "wait_interval": 0
          }
        }
      },
      "cell_type": "code",
      "source": [
        "is_correct = tf.equal(Y_Pred_Class, Y_True_Class, name=\"calcCorrect\")\n",
        "\n",
        "accuracy = tf.reduce_mean(tf.cast(is_correct, tf.float32), name=\"calcAccuracy\")"
      ],
      "execution_count": 0,
      "outputs": []
    },
    {
      "metadata": {
        "id": "WPUilAFEGLNN",
        "colab_type": "text"
      },
      "cell_type": "markdown",
      "source": [
        "# Antrenare\n",
        "\n",
        "Setup pentru optimizator. Dam ca parametru functia de cost."
      ]
    },
    {
      "metadata": {
        "id": "QPJYjam6GLNS",
        "colab_type": "code",
        "colab": {
          "autoexec": {
            "startup": false,
            "wait_interval": 0
          }
        }
      },
      "cell_type": "code",
      "source": [
        "alpha = 0.003                          # rata de invatare / learning rate\n",
        "\n",
        "optimizer = tf.train.GradientDescentOptimizer(alpha, name=\"optimizer\")\n",
        "\n",
        "trainStep = optimizer.minimize(cross_entropy_loss, name=\"trainStep\")"
      ],
      "execution_count": 0,
      "outputs": []
    },
    {
      "metadata": {
        "id": "FZoOGlljGLNj",
        "colab_type": "text"
      },
      "cell_type": "markdown",
      "source": [
        "**run** pe graful computational creat, in mini-batchuri de cate 100"
      ]
    },
    {
      "metadata": {
        "id": "jVgz--zbGLNm",
        "colab_type": "code",
        "colab": {
          "autoexec": {
            "startup": false,
            "wait_interval": 0
          }
        }
      },
      "cell_type": "code",
      "source": [
        "numberOfBatches = 10000\n",
        "batchSize = 100\n",
        "\n",
        "trainingAccuracyList = []\n",
        "trainingLossList = []\n",
        "testAccuracyList = []\n",
        "testLossList = []"
      ],
      "execution_count": 0,
      "outputs": []
    },
    {
      "metadata": {
        "id": "FrhPjzjKGLNq",
        "colab_type": "code",
        "colab": {
          "autoexec": {
            "startup": false,
            "wait_interval": 0
          }
        }
      },
      "cell_type": "code",
      "source": [
        "with tf.Session() as sess:\n",
        "    \n",
        "    # actually initialize our variables\n",
        "    sess.run(init)\n",
        "    \n",
        "    # batch-minimization loop\n",
        "    for i in range(numberOfBatches):\n",
        "        # get this batches data\n",
        "        batch_X, batch_Y = mnist.train.next_batch(batchSize)\n",
        "        \n",
        "        # setup this batches input dictionary\n",
        "        train_data = {X_img: batch_X, Y_True_Prob: batch_Y}\n",
        "        \n",
        "        # run the training step on this batch\n",
        "        sess.run(trainStep, feed_dict=train_data)\n",
        "        \n",
        "\n",
        "        # compute this batches success on the training data\n",
        "        trainAcc,trainLoss = sess.run([accuracy, cross_entropy_loss], feed_dict=train_data)\n",
        "\n",
        "        if i%100 == 0:\n",
        "            # compute our success on the test data\n",
        "            test_data = {X_img: mnist.test.images, Y_True_Prob: mnist.test.labels}\n",
        "            testAcc,testLoss = sess.run([accuracy, cross_entropy_loss], feed_dict=test_data)\n",
        "            #print(\"Train \" + str(i) + \": accuracy:\" + str(trainAcc) + \" loss: \" + str(trainLoss))\n",
        "            #print(\"Test \" + str(i) + \": accuracy:\" + str(testAcc) + \" loss: \" + str(testLoss))\n",
        "            \n",
        "            trainingAccuracyList.append(trainAcc)\n",
        "            trainingLossList.append(trainLoss)\n",
        "            testAccuracyList.append(testAcc)\n",
        "            testLossList.append(testLoss)"
      ],
      "execution_count": 0,
      "outputs": []
    },
    {
      "metadata": {
        "id": "auBCrW3xGLNw",
        "colab_type": "text"
      },
      "cell_type": "markdown",
      "source": [
        "# Plotting"
      ]
    },
    {
      "metadata": {
        "id": "fkTBTWn9GLNy",
        "colab_type": "code",
        "colab": {
          "autoexec": {
            "startup": false,
            "wait_interval": 0
          },
          "output_extras": [
            {
              "item_id": 1
            }
          ],
          "base_uri": "https://localhost:8080/",
          "height": 335
        },
        "outputId": "b301df01-85d7-42da-de38-e4331ed8b077",
        "executionInfo": {
          "status": "ok",
          "timestamp": 1520370643669,
          "user_tz": -120,
          "elapsed": 1176,
          "user": {
            "displayName": "Andrei Janca",
            "photoUrl": "//lh4.googleusercontent.com/-WcoatQvgbR4/AAAAAAAAAAI/AAAAAAAAAM0/x-SFTi_dtXM/s50-c-k-no/photo.jpg",
            "userId": "110870304408376504137"
          }
        }
      },
      "cell_type": "code",
      "source": [
        "plt.figure(figsize=(10,5))\n",
        "\n",
        "# Plot Accuracy\n",
        "plt.subplot(1,2,1);\n",
        "plt.plot(trainingAccuracyList, label=\"Train Acc\");\n",
        "plt.plot(testAccuracyList, label=\"Test Acc\");\n",
        "plt.title(\"Accuracy\");\n",
        "plt.legend();\n",
        "\n",
        "# Plot Loss\n",
        "plt.subplot(1,2,2);\n",
        "plt.plot(trainingLossList, label=\"Test Loss\");\n",
        "plt.plot(testLossList, label=\"Test Loss\");\n",
        "plt.title(\"Loss\");\n",
        "plt.legend();"
      ],
      "execution_count": 16,
      "outputs": [
        {
          "output_type": "display_data",
          "data": {
            "image/png": "[encoded data removed]",
            "text/plain": [
              "<matplotlib.figure.Figure at 0x7f7267f8a908>"
            ]
          },
          "metadata": {
            "tags": []
          }
        }
      ]
    }
  ]
}