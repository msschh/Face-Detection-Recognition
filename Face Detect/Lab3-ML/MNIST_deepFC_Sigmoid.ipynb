{
  "nbformat": 4,
  "nbformat_minor": 0,
  "metadata": {
    "colab": {
      "name": "MNIST_deepFC_Sigmoid.ipynb",
      "version": "0.3.2",
      "views": {},
      "default_view": {},
      "provenance": []
    },
    "kernelspec": {
      "display_name": "Python 3",
      "language": "python",
      "name": "python3"
    }
  },
  "cells": [
    {
      "metadata": {
        "id": "20MwQWVEPp7s",
        "colab_type": "text"
      },
      "cell_type": "markdown",
      "source": [
        "# MNIST_deepFC_Sigmoid"
      ]
    },
    {
      "metadata": {
        "id": "gvu3xu2rPp8e",
        "colab_type": "text"
      },
      "cell_type": "markdown",
      "source": [
        "# Setup\n",
        "\n",
        "## Imports"
      ]
    },
    {
      "metadata": {
        "id": "uYOwuoNoPp8w",
        "colab_type": "code",
        "colab": {
          "autoexec": {
            "startup": false,
            "wait_interval": 0
          }
        }
      },
      "cell_type": "code",
      "source": [
        "import tensorflow as tf\n",
        "from tensorflow.examples.tutorials.mnist import input_data as mnist_data\n",
        "import pickle\n",
        "\n",
        "import matplotlib.pyplot as plt\n",
        "%matplotlib inline\n",
        "import seaborn as sns\n",
        "sns.set()"
      ],
      "execution_count": 0,
      "outputs": []
    },
    {
      "metadata": {
        "id": "2Zcsp4_SPp9X",
        "colab_type": "text"
      },
      "cell_type": "markdown",
      "source": [
        "## Load Data"
      ]
    },
    {
      "metadata": {
        "id": "S_KdjfTkPp9d",
        "colab_type": "code",
        "colab": {
          "autoexec": {
            "startup": false,
            "wait_interval": 0
          },
          "output_extras": [
            {
              "item_id": 2
            }
          ],
          "base_uri": "https://localhost:8080/",
          "height": 85
        },
        "outputId": "98ab3b6d-c35a-4177-bdbe-4f3712fe03ff",
        "executionInfo": {
          "status": "ok",
          "timestamp": 1520370280222,
          "user_tz": -120,
          "elapsed": 1650,
          "user": {
            "displayName": "Andrei Janca",
            "photoUrl": "//lh4.googleusercontent.com/-WcoatQvgbR4/AAAAAAAAAAI/AAAAAAAAAM0/x-SFTi_dtXM/s50-c-k-no/photo.jpg",
            "userId": "110870304408376504137"
          }
        }
      },
      "cell_type": "code",
      "source": [
        "# Download images and labels into mnist.test (10K images+labels) and mnist.train (60K images+labels)\n",
        "mnist = mnist_data.read_data_sets(\"data\", one_hot=True, reshape=False, validation_size=0)"
      ],
      "execution_count": 2,
      "outputs": [
        {
          "output_type": "stream",
          "text": [
            "Extracting data/train-images-idx3-ubyte.gz\n",
            "Extracting data/train-labels-idx1-ubyte.gz\n",
            "Extracting data/t10k-images-idx3-ubyte.gz\n",
            "Extracting data/t10k-labels-idx1-ubyte.gz\n"
          ],
          "name": "stdout"
        }
      ]
    },
    {
      "metadata": {
        "id": "6HgQBQgmPp94",
        "colab_type": "text"
      },
      "cell_type": "markdown",
      "source": [
        "## Setup Model"
      ]
    },
    {
      "metadata": {
        "id": "_ZhPURl3Pp98",
        "colab_type": "text"
      },
      "cell_type": "markdown",
      "source": [
        "Construim o arhitectura cu 5 layere fully connected:\n",
        "\n",
        "![](images/5-layers.png)\n",
        "\n",
        "* pt fiecare imagine $28 \\times 28$ pixeli, vectorizam in $784$\n",
        "* conectam outputul de mai sus la un strat cu $200$ noduri si activare sigmoid\n",
        "* conectam outputul de mai sus la un strat cu $100$ noduri si activare sigmoid\n",
        "* conectam outputul de mai sus la un strat cu $60$ noduri si activare sigmoid\n",
        "* conectam outputul de mai sus la un strat cu $30$ noduri si activare sigmoid\n",
        "* conectam outputul de mai sus la un strat cu $10$ noduri si activare softmax - acesta este clasificatorul / stratul de output"
      ]
    },
    {
      "metadata": {
        "id": "oBf2XQwwPp-A",
        "colab_type": "text"
      },
      "cell_type": "markdown",
      "source": [
        "straturile intermediare se numesc \"hidden\" si folosesc activare sigmoid"
      ]
    },
    {
      "metadata": {
        "id": "XtwK6q_OPp-P",
        "colab_type": "code",
        "colab": {
          "autoexec": {
            "startup": false,
            "wait_interval": 0
          }
        }
      },
      "cell_type": "code",
      "source": [
        "batchSize = None;       # put None for right now as we dont know yet\n",
        "\n",
        "imgHeight = 28\n",
        "imgWidth = 28\n",
        "numOfColors = 1         # gray scale images\n",
        "\n",
        "flatSize = imgHeight*imgWidth*numOfColors   # 728\n",
        "\n",
        "numberOfClasses = 10    # 10 classes: 0-9\n",
        "\n",
        "# Size of each layer:\n",
        "sizeLayerOne = 200\n",
        "sizeLayerTwo = 100\n",
        "sizeLayerThree = 60\n",
        "sizeLayerFour = 30\n",
        "sizeLayerFive = numberOfClasses       # the final layer is the output layer"
      ],
      "execution_count": 0,
      "outputs": []
    },
    {
      "metadata": {
        "id": "5UrPEuYuPp-e",
        "colab_type": "text"
      },
      "cell_type": "markdown",
      "source": [
        "Input `X_img`:"
      ]
    },
    {
      "metadata": {
        "id": "7guK5mFsPp-p",
        "colab_type": "code",
        "colab": {
          "autoexec": {
            "startup": false,
            "wait_interval": 0
          }
        }
      },
      "cell_type": "code",
      "source": [
        "# Input Data\n",
        "X_img = tf.placeholder(tf.float32, [batchSize, imgHeight, imgWidth, numOfColors], name=\"X_img\")\n",
        "X_vec = tf.reshape(X_img, [-1, 784], name=\"X_vec\")"
      ],
      "execution_count": 0,
      "outputs": []
    },
    {
      "metadata": {
        "id": "UyEIGvndPp-5",
        "colab_type": "text"
      },
      "cell_type": "markdown",
      "source": [
        "Placeholdere necesare (GT ground truth values, vectorizate / \"one-hot encoding\")"
      ]
    },
    {
      "metadata": {
        "id": "lY919wj4Pp-_",
        "colab_type": "code",
        "colab": {
          "autoexec": {
            "startup": false,
            "wait_interval": 0
          }
        }
      },
      "cell_type": "code",
      "source": [
        "Y_True = tf.placeholder(tf.float32, [batchSize, 10])"
      ],
      "execution_count": 0,
      "outputs": []
    },
    {
      "metadata": {
        "id": "tX50vxVFPp_Q",
        "colab_type": "text"
      },
      "cell_type": "markdown",
      "source": [
        "Definim arhitectura, in termeni de dimensiuni si conexiuni intre W si b"
      ]
    },
    {
      "metadata": {
        "id": "ZxaHMh-CPp_W",
        "colab_type": "code",
        "colab": {
          "autoexec": {
            "startup": false,
            "wait_interval": 0
          }
        }
      },
      "cell_type": "code",
      "source": [
        "with tf.name_scope(\"Layer_1\"):\n",
        "    # Weights\n",
        "    W1 = tf.Variable(tf.truncated_normal([flatSize, sizeLayerOne], stddev=0.1), name=\"Weights\")\n",
        "\n",
        "    # Biases\n",
        "    b1 = tf.Variable(tf.zeros([sizeLayerOne]), name=\"Biases\")\n",
        "    \n",
        "    # Sigmoid Activation\n",
        "    Y1 = tf.nn.sigmoid(tf.matmul(X_vec, W1) + b1, name=\"Activation\")"
      ],
      "execution_count": 0,
      "outputs": []
    },
    {
      "metadata": {
        "id": "_MnTK4O8Pp_r",
        "colab_type": "code",
        "colab": {
          "autoexec": {
            "startup": false,
            "wait_interval": 0
          },
          "output_extras": [
            {
              "item_id": 1
            }
          ],
          "base_uri": "https://localhost:8080/",
          "height": 129
        },
        "outputId": "9876f6c4-3ad4-4831-f5b3-741b84c43881",
        "executionInfo": {
          "status": "error",
          "timestamp": 1520370341843,
          "user_tz": -120,
          "elapsed": 631,
          "user": {
            "displayName": "Andrei Janca",
            "photoUrl": "//lh4.googleusercontent.com/-WcoatQvgbR4/AAAAAAAAAAI/AAAAAAAAAM0/x-SFTi_dtXM/s50-c-k-no/photo.jpg",
            "userId": "110870304408376504137"
          }
        }
      },
      "cell_type": "code",
      "source": [
        "with tf.name_scope(\"Layer_2\"):\n",
        "    # TODO\n",
        "    # Weights\n",
        "    \n",
        "\n",
        "    # Biases\n",
        "    \n",
        "    \n",
        "    # Sigmoid Activation\n",
        "    "
      ],
      "execution_count": 12,
      "outputs": [
        {
          "output_type": "error",
          "ename": "SyntaxError",
          "evalue": "ignored",
          "traceback": [
            "\u001b[0;36m  File \u001b[0;32m\"<ipython-input-12-9023c43faeba>\"\u001b[0;36m, line \u001b[0;32m4\u001b[0m\n\u001b[0;31m    \u001b[0m\n\u001b[0m    ^\u001b[0m\n\u001b[0;31mSyntaxError\u001b[0m\u001b[0;31m:\u001b[0m unexpected EOF while parsing\n"
          ]
        }
      ]
    },
    {
      "metadata": {
        "id": "DgzTwl93Pp__",
        "colab_type": "code",
        "colab": {
          "autoexec": {
            "startup": false,
            "wait_interval": 0
          }
        }
      },
      "cell_type": "code",
      "source": [
        "with tf.name_scope(\"Layer_3\"):\n",
        "    # TODO\n",
        "    "
      ],
      "execution_count": 0,
      "outputs": []
    },
    {
      "metadata": {
        "id": "57LBN9GaPqAO",
        "colab_type": "code",
        "colab": {
          "autoexec": {
            "startup": false,
            "wait_interval": 0
          }
        }
      },
      "cell_type": "code",
      "source": [
        "with tf.name_scope(\"Layer_4\"):\n",
        "    # TODO\n",
        "    "
      ],
      "execution_count": 0,
      "outputs": []
    },
    {
      "metadata": {
        "id": "7uj5kvaqPqAd",
        "colab_type": "text"
      },
      "cell_type": "markdown",
      "source": [
        "Clasificatorul final, de output:"
      ]
    },
    {
      "metadata": {
        "id": "JqzaE35SPqAg",
        "colab_type": "code",
        "colab": {
          "autoexec": {
            "startup": false,
            "wait_interval": 0
          }
        }
      },
      "cell_type": "code",
      "source": [
        "with tf.name_scope(\"Output_Layer\"):\n",
        "    # Weights\n",
        "    W5 = tf.Variable(tf.truncated_normal([sizeLayerFour, sizeLayerFive], stddev=0.1), name=\"Weights\")\n",
        "\n",
        "    # Biases\n",
        "    b5 = tf.Variable(tf.zeros([sizeLayerFive]), name=\"Biases\")\n",
        "    \n",
        "    # Output logits\n",
        "    Y_logits = tf.matmul(Y4, W5) + b5\n",
        "    \n",
        "    # Softmax Activation\n",
        "    Y_Pred = tf.nn.softmax(Y_logits, name=\"Activation\")"
      ],
      "execution_count": 0,
      "outputs": []
    },
    {
      "metadata": {
        "id": "WezJwWjSPqAr",
        "colab_type": "text"
      },
      "cell_type": "markdown",
      "source": [
        "**Nota:** functia de loss (distanta) pentru cross-entropy : \n",
        "\n",
        "$$ - \\sum \\left( \\tilde{Y}_i \\cdot \\log(Y_i) \\right)$$\n",
        "\n",
        "TensorFlow ne ajuta cu functia de librarie `softmax_cross_entropy_with_logits`. Aceasta evita probleme de stabilitate numerica pentru `log(0)` , care este `NaN`, asadar folosim aceasta functie, *normalizata pentru batchuri de $100$ de imagini*"
      ]
    },
    {
      "metadata": {
        "id": "TznklsNRPqAv",
        "colab_type": "code",
        "colab": {
          "autoexec": {
            "startup": false,
            "wait_interval": 0
          }
        }
      },
      "cell_type": "code",
      "source": [
        "cross_entropy = tf.nn.softmax_cross_entropy_with_logits_v2(logits=Y_logits, labels=Y_True)\n",
        "cross_entropy = tf.reduce_mean(cross_entropy)*100"
      ],
      "execution_count": 0,
      "outputs": []
    },
    {
      "metadata": {
        "id": "7SLeMFjdPqA5",
        "colab_type": "text"
      },
      "cell_type": "markdown",
      "source": [
        "Definim metricile de acuratete"
      ]
    },
    {
      "metadata": {
        "id": "BvBHDYi1PqA7",
        "colab_type": "code",
        "colab": {
          "autoexec": {
            "startup": false,
            "wait_interval": 0
          }
        }
      },
      "cell_type": "code",
      "source": [
        "# accuracy of the trained model, between 0 (worst) and 1 (best)\n",
        "correct_prediction = tf.equal(tf.argmax(Y_Pred, 1), tf.argmax(Y_True, 1))\n",
        "accuracy = tf.reduce_mean(tf.cast(correct_prediction, tf.float32))"
      ],
      "execution_count": 0,
      "outputs": []
    },
    {
      "metadata": {
        "id": "qnAW-DvDPqBE",
        "colab_type": "text"
      },
      "cell_type": "markdown",
      "source": [
        "Pasul de antrenare se va face cu optimizatorul \"Adam\""
      ]
    },
    {
      "metadata": {
        "id": "KNWvPFEAPqBT",
        "colab_type": "code",
        "colab": {
          "autoexec": {
            "startup": false,
            "wait_interval": 0
          }
        }
      },
      "cell_type": "code",
      "source": [
        "# training step, learning rate = 0.003\n",
        "learning_rate = 0.003\n",
        "trainStep = tf.train.AdamOptimizer(learning_rate).minimize(cross_entropy)"
      ],
      "execution_count": 0,
      "outputs": []
    },
    {
      "metadata": {
        "id": "MjxEHUJaPqBg",
        "colab_type": "text"
      },
      "cell_type": "markdown",
      "source": [
        "Antrenam arhitectura retelei, in aceeasi maniera ca inainte : "
      ]
    },
    {
      "metadata": {
        "id": "BOH_PnRuPqBi",
        "colab_type": "code",
        "colab": {
          "autoexec": {
            "startup": false,
            "wait_interval": 0
          }
        }
      },
      "cell_type": "code",
      "source": [
        "numberOfBatches = 10000\n",
        "batchSize = 100\n",
        "\n",
        "trainingAccuracyList = []\n",
        "trainingLossList = []\n",
        "testAccuracyList = []\n",
        "testLossList = []"
      ],
      "execution_count": 0,
      "outputs": []
    },
    {
      "metadata": {
        "id": "Fq8LNH0vPqBw",
        "colab_type": "code",
        "colab": {
          "autoexec": {
            "startup": false,
            "wait_interval": 0
          },
          "output_extras": [
            {}
          ],
          "base_uri": "https://localhost:8080/",
          "height": 1754
        },
        "outputId": "4a8885c9-5324-4c35-d6b6-1f53ff958bc4",
        "executionInfo": {
          "status": "ok",
          "timestamp": 1520339319879,
          "user_tz": -120,
          "elapsed": 61606,
          "user": {
            "displayName": "andi petreanu",
            "photoUrl": "//lh6.googleusercontent.com/-77-AzhcrNb4/AAAAAAAAAAI/AAAAAAAAAFo/mVZNhxbZI5s/s50-c-k-no/photo.jpg",
            "userId": "116331990643447974338"
          }
        }
      },
      "cell_type": "code",
      "source": [
        "init = tf.global_variables_initializer()\n",
        "with tf.Session() as sess:\n",
        "    \n",
        "    # actually initialize our variables\n",
        "    sess.run(init)\n",
        "    \n",
        "    # batch-minimization loop\n",
        "    for i in range(numberOfBatches):\n",
        "        # get this batches data\n",
        "        batch_X, batch_Y = mnist.train.next_batch(batchSize)\n",
        "        \n",
        "        # setup this batches input dictionary\n",
        "        train_data = {X_img: batch_X, Y_True: batch_Y}\n",
        "        \n",
        "        # run the training step on this batch\n",
        "        sess.run(trainStep, feed_dict=train_data)\n",
        "\n",
        "        # compute this batches success on the training data\n",
        "        trainAcc, trainLoss = sess.run([accuracy, cross_entropy], feed_dict=train_data)\n",
        "\n",
        "        if i%100 == 0:\n",
        "            # compute our success on the test data\n",
        "            test_data = {X_img: mnist.test.images, Y_True: mnist.test.labels}\n",
        "            testAcc,testLoss = sess.run([accuracy, cross_entropy], feed_dict=test_data)\n",
        "            # print(\"Train \" + str(i) + \": accuracy:\" + str(trainAcc) + \" loss: \" + str(trainLoss))\n",
        "            # print(\"Test \" + str(i) + \": accuracy:\" + str(testAcc) + \" loss: \" + str(testLoss))\n",
        "            \n",
        "            trainingAccuracyList.append(trainAcc)\n",
        "            trainingLossList.append(trainLoss)\n",
        "            testAccuracyList.append(testAcc)\n",
        "            testLossList.append(testLoss)\n",
        "            \n",
        "            print(\"Batch number: \",i)"
      ],
      "execution_count": 0,
      "outputs": [
        {
          "output_type": "stream",
          "text": [
            "Batch number:  0\n",
            "Batch number:  100\n",
            "Batch number:  200\n",
            "Batch number:  300\n",
            "Batch number:  400\n",
            "Batch number:  500\n",
            "Batch number:  600\n",
            "Batch number:  700\n",
            "Batch number:  800\n",
            "Batch number:  900\n",
            "Batch number:  1000\n",
            "Batch number:  1100\n",
            "Batch number:  1200\n",
            "Batch number:  1300\n",
            "Batch number:  1400\n",
            "Batch number:  1500\n",
            "Batch number:  1600\n",
            "Batch number:  1700\n",
            "Batch number:  1800\n",
            "Batch number:  1900\n",
            "Batch number:  2000\n",
            "Batch number:  2100\n",
            "Batch number:  2200\n",
            "Batch number:  2300\n",
            "Batch number:  2400\n",
            "Batch number:  2500\n",
            "Batch number:  2600\n",
            "Batch number:  2700\n",
            "Batch number:  2800\n",
            "Batch number:  2900\n",
            "Batch number:  3000\n",
            "Batch number:  3100\n",
            "Batch number:  3200\n",
            "Batch number:  3300\n",
            "Batch number:  3400\n",
            "Batch number:  3500\n",
            "Batch number:  3600\n",
            "Batch number:  3700\n",
            "Batch number:  3800\n",
            "Batch number:  3900\n",
            "Batch number:  4000\n",
            "Batch number:  4100\n",
            "Batch number:  4200\n",
            "Batch number:  4300\n",
            "Batch number:  4400\n",
            "Batch number:  4500\n",
            "Batch number:  4600\n",
            "Batch number:  4700\n",
            "Batch number:  4800\n",
            "Batch number:  4900\n",
            "Batch number:  5000\n",
            "Batch number:  5100\n",
            "Batch number:  5200\n",
            "Batch number:  5300\n",
            "Batch number:  5400\n",
            "Batch number:  5500\n",
            "Batch number:  5600\n",
            "Batch number:  5700\n",
            "Batch number:  5800\n",
            "Batch number:  5900\n",
            "Batch number:  6000\n",
            "Batch number:  6100\n",
            "Batch number:  6200\n",
            "Batch number:  6300\n",
            "Batch number:  6400\n",
            "Batch number:  6500\n",
            "Batch number:  6600\n",
            "Batch number:  6700\n",
            "Batch number:  6800\n",
            "Batch number:  6900\n",
            "Batch number:  7000\n",
            "Batch number:  7100\n",
            "Batch number:  7200\n",
            "Batch number:  7300\n",
            "Batch number:  7400\n",
            "Batch number:  7500\n",
            "Batch number:  7600\n",
            "Batch number:  7700\n",
            "Batch number:  7800\n",
            "Batch number:  7900\n",
            "Batch number:  8000\n",
            "Batch number:  8100\n",
            "Batch number:  8200\n",
            "Batch number:  8300\n",
            "Batch number:  8400\n",
            "Batch number:  8500\n",
            "Batch number:  8600\n",
            "Batch number:  8700\n",
            "Batch number:  8800\n",
            "Batch number:  8900\n",
            "Batch number:  9000\n",
            "Batch number:  9100\n",
            "Batch number:  9200\n",
            "Batch number:  9300\n",
            "Batch number:  9400\n",
            "Batch number:  9500\n",
            "Batch number:  9600\n",
            "Batch number:  9700\n",
            "Batch number:  9800\n",
            "Batch number:  9900\n"
          ],
          "name": "stdout"
        }
      ]
    },
    {
      "metadata": {
        "id": "ahPBR0riPqCB",
        "colab_type": "text"
      },
      "cell_type": "markdown",
      "source": [
        "# Plotting"
      ]
    },
    {
      "metadata": {
        "id": "u5VxonzsPqCD",
        "colab_type": "code",
        "colab": {
          "autoexec": {
            "startup": false,
            "wait_interval": 0
          },
          "output_extras": [
            {}
          ],
          "base_uri": "https://localhost:8080/",
          "height": 335
        },
        "outputId": "eefdb446-5730-4113-cbdc-24cd08ae4a5d",
        "executionInfo": {
          "status": "ok",
          "timestamp": 1520339324486,
          "user_tz": -120,
          "elapsed": 1095,
          "user": {
            "displayName": "andi petreanu",
            "photoUrl": "//lh6.googleusercontent.com/-77-AzhcrNb4/AAAAAAAAAAI/AAAAAAAAAFo/mVZNhxbZI5s/s50-c-k-no/photo.jpg",
            "userId": "116331990643447974338"
          }
        }
      },
      "cell_type": "code",
      "source": [
        "plt.figure(figsize=(10,5))\n",
        "\n",
        "# Plot Accuracy\n",
        "plt.subplot(1,2,1);\n",
        "plt.plot(trainingAccuracyList, label=\"Train Acc\");\n",
        "plt.plot(testAccuracyList, label=\"Test Acc\");\n",
        "plt.title(\"Accuracy\");\n",
        "plt.legend();\n",
        "\n",
        "# Plot Loss\n",
        "plt.subplot(1,2,2);\n",
        "plt.plot(trainingLossList, label=\"Test Loss\");\n",
        "plt.plot(testLossList, label=\"Test Loss\");\n",
        "plt.title(\"Loss\");\n",
        "plt.legend();"
      ],
      "execution_count": 0,
      "outputs": [
        {
          "output_type": "display_data",
          "data": {
            "image/png": "[encoded data removed]",
            "text/plain": [
              "<matplotlib.figure.Figure at 0x7f5bd8dd6908>"
            ]
          },
          "metadata": {
            "tags": []
          }
        }
      ]
    },
    {
      "metadata": {
        "id": "MegNqw2VPqCS",
        "colab_type": "text"
      },
      "cell_type": "markdown",
      "source": [
        "Daca ne uitam doar la capetele finale ale ploturilor : "
      ]
    },
    {
      "metadata": {
        "id": "zH_gx7yhPqCT",
        "colab_type": "code",
        "colab": {
          "autoexec": {
            "startup": false,
            "wait_interval": 0
          },
          "output_extras": [
            {}
          ],
          "base_uri": "https://localhost:8080/",
          "height": 335
        },
        "outputId": "72f7bdd8-2ab6-44c0-e0e7-5e68cc62208a",
        "executionInfo": {
          "status": "ok",
          "timestamp": 1520339376615,
          "user_tz": -120,
          "elapsed": 952,
          "user": {
            "displayName": "andi petreanu",
            "photoUrl": "//lh6.googleusercontent.com/-77-AzhcrNb4/AAAAAAAAAAI/AAAAAAAAAFo/mVZNhxbZI5s/s50-c-k-no/photo.jpg",
            "userId": "116331990643447974338"
          }
        }
      },
      "cell_type": "code",
      "source": [
        "tailLength = -90\n",
        "\n",
        "plt.figure(figsize=(10,5))\n",
        "\n",
        "# Plot Accuracy\n",
        "plt.subplot(1,2,1);\n",
        "plt.plot(trainingAccuracyList[tailLength:], label=\"Train Acc\");\n",
        "plt.plot(testAccuracyList[tailLength:], label=\"Test Acc\");\n",
        "plt.title(\"Accuracy\");\n",
        "plt.legend();\n",
        "\n",
        "# Plot Loss\n",
        "plt.subplot(1,2,2);\n",
        "plt.plot(trainingLossList[tailLength:], label=\"Test Loss\");\n",
        "plt.plot(testLossList[tailLength:], label=\"Test Loss\");\n",
        "plt.title(\"Loss\");\n",
        "plt.legend();"
      ],
      "execution_count": 0,
      "outputs": [
        {
          "output_type": "display_data",
          "data": {
            "image/png": "[encoded data removed]",
            "text/plain": [
              "<matplotlib.figure.Figure at 0x7f5bd6d2f780>"
            ]
          },
          "metadata": {
            "tags": []
          }
        }
      ]
    },
    {
      "metadata": {
        "id": "PBgfxZ1YPqCe",
        "colab_type": "text"
      },
      "cell_type": "markdown",
      "source": [
        "# Salvarea rezultatelor ca pickle"
      ]
    },
    {
      "metadata": {
        "id": "H98HX-kmPqCh",
        "colab_type": "code",
        "colab": {
          "autoexec": {
            "startup": false,
            "wait_interval": 0
          }
        }
      },
      "cell_type": "code",
      "source": [
        "from google.colab import files\n",
        "\n",
        "resultsDic = {\"trainAcc\": trainingAccuracyList, \"trainLoss\": trainingLossList, \"testAcc\": testAccuracyList, \"testLoss\": testLossList}\n",
        "\n",
        "with open(\"mnist-2.0-results.txt\", \"wb\") as fp:   #Pickling\n",
        "    pickle.dump(resultsDic, fp)\n",
        "    \n",
        "files.download(\"mnist-2.0-results.txt\")"
      ],
      "execution_count": 0,
      "outputs": []
    },
    {
      "metadata": {
        "id": "mb-QJoP9PqCp",
        "colab_type": "code",
        "colab": {
          "autoexec": {
            "startup": false,
            "wait_interval": 0
          }
        }
      },
      "cell_type": "code",
      "source": [
        ""
      ],
      "execution_count": 0,
      "outputs": []
    }
  ]
}